{
 "cells": [
  {
   "cell_type": "code",
   "execution_count": 12,
   "metadata": {},
   "outputs": [],
   "source": [
    "# Dependencies\n",
    "import requests\n",
    "import json\n",
    "from citipy import citipy\n",
    "import numpy as np\n",
    "from config import owkey\n",
    "import geoip2.database\n",
    "import geoip2.webservice\n",
    "import pandas as pd\n",
    "import random\n",
    "import time\n",
    "import matplotlib.pyplot as plt\n",
    "from scipy.stats import sem\n",
    "from scipy.stats import linregress\n",
    "from sklearn.linear_model import LinearRegression\n",
    "from sklearn.metrics import r2_score\n",
    "import statsmodels.api as sm"
   ]
  },
  {
   "cell_type": "code",
   "execution_count": null,
   "metadata": {},
   "outputs": [],
   "source": []
  },
  {
   "cell_type": "code",
   "execution_count": 13,
   "metadata": {},
   "outputs": [],
   "source": [
    "#Read a CSV file with data on cities around the world\n",
    "file=\"worldcitiespop_reduced.csv\"\n",
    "cities_df=pd.read_csv(file)"
   ]
  },
  {
   "cell_type": "code",
   "execution_count": 14,
   "metadata": {},
   "outputs": [],
   "source": [
    "#Create a simplified dataframe with 500 cities randomly sampled (without replacement) from the CSV file\n",
    "simpcities_df = cities_df[[\"Latitude\",\"Longitude\"]]\n",
    "cities_dict=simpcities_df.set_index(\"Latitude\")[\"Longitude\"].to_dict()\n",
    "random_500=dict(random.sample(cities_dict.items(), 500))"
   ]
  },
  {
   "cell_type": "code",
   "execution_count": 15,
   "metadata": {},
   "outputs": [],
   "source": [
    "#Collect the weather data from 500 cities\n",
    "\n",
    "weather_df= pd.DataFrame({\n",
    "    \"Name\": [], \n",
    "    \"Temperature (F)\": [],  \n",
    "    \"Humidity (%)\": [], \n",
    "    \"Cloudiness (%)\": [], \n",
    "    \"Windspeed (mph)\": [], \n",
    "    \n",
    "})\n",
    "\n",
    "\n",
    "call_counter=0\n",
    "for lat in random_500:\n",
    "    api_call = \"http://api.openweathermap.org/data/2.5/weather?lat=\" + str(lat) + \"&lon=\" + str(random_500[lat]) + \"&units=imperial\" + \"&appid=\" + owkey\n",
    "    api_response = requests.get(api_call)\n",
    "    api_json = api_response.json()\n",
    "    name=api_json[\"name\"]\n",
    "    temp=api_json[\"main\"][\"temp\"]\n",
    "    humidity=api_json[\"main\"][\"humidity\"]\n",
    "    clouds=api_json[\"clouds\"][\"all\"]\n",
    "    speed=api_json[\"wind\"][\"speed\"]\n",
    "    \n",
    "    #append the weather values to the dataframe\n",
    "    weather_df=weather_df.append({'Name' : name , 'Temperature (F)' : temp, \"Humidity (%)\": humidity, \"Cloudiness (%)\": clouds, \"Windspeed (mph)\": speed, \"Latitude\": lat, \"Longitude\": random_500[lat] } , ignore_index=True)\n",
    "    \n",
    "    call_counter+=1\n",
    "    if call_counter==19:\n",
    "        time.sleep(1)\n",
    "        call_counter=0\n",
    "        \n",
    "        continue"
   ]
  },
  {
   "cell_type": "code",
   "execution_count": 16,
   "metadata": {},
   "outputs": [
    {
     "data": {
      "text/html": [
       "<div>\n",
       "<style scoped>\n",
       "    .dataframe tbody tr th:only-of-type {\n",
       "        vertical-align: middle;\n",
       "    }\n",
       "\n",
       "    .dataframe tbody tr th {\n",
       "        vertical-align: top;\n",
       "    }\n",
       "\n",
       "    .dataframe thead th {\n",
       "        text-align: right;\n",
       "    }\n",
       "</style>\n",
       "<table border=\"1\" class=\"dataframe\">\n",
       "  <thead>\n",
       "    <tr style=\"text-align: right;\">\n",
       "      <th></th>\n",
       "      <th>Name</th>\n",
       "      <th>Temperature (F)</th>\n",
       "      <th>Humidity (%)</th>\n",
       "      <th>Cloudiness (%)</th>\n",
       "      <th>Windspeed (mph)</th>\n",
       "      <th>Latitude</th>\n",
       "      <th>Longitude</th>\n",
       "      <th>Distance From Equator</th>\n",
       "    </tr>\n",
       "  </thead>\n",
       "  <tbody>\n",
       "    <tr>\n",
       "      <th>0</th>\n",
       "      <td>Lengshui</td>\n",
       "      <td>47.05</td>\n",
       "      <td>91.0</td>\n",
       "      <td>100.0</td>\n",
       "      <td>4.97</td>\n",
       "      <td>27.768461</td>\n",
       "      <td>117.128830</td>\n",
       "      <td>27.768461</td>\n",
       "    </tr>\n",
       "    <tr>\n",
       "      <th>1</th>\n",
       "      <td>Caxito</td>\n",
       "      <td>80.60</td>\n",
       "      <td>83.0</td>\n",
       "      <td>75.0</td>\n",
       "      <td>6.91</td>\n",
       "      <td>-8.555833</td>\n",
       "      <td>13.687778</td>\n",
       "      <td>8.555833</td>\n",
       "    </tr>\n",
       "    <tr>\n",
       "      <th>2</th>\n",
       "      <td>North Denmark</td>\n",
       "      <td>41.94</td>\n",
       "      <td>81.0</td>\n",
       "      <td>0.0</td>\n",
       "      <td>11.50</td>\n",
       "      <td>56.961838</td>\n",
       "      <td>9.743209</td>\n",
       "      <td>56.961838</td>\n",
       "    </tr>\n",
       "    <tr>\n",
       "      <th>3</th>\n",
       "      <td>Lucapa</td>\n",
       "      <td>68.94</td>\n",
       "      <td>85.0</td>\n",
       "      <td>100.0</td>\n",
       "      <td>2.04</td>\n",
       "      <td>-7.771256</td>\n",
       "      <td>21.400692</td>\n",
       "      <td>7.771256</td>\n",
       "    </tr>\n",
       "    <tr>\n",
       "      <th>4</th>\n",
       "      <td>Juigné-sur-Loire</td>\n",
       "      <td>34.83</td>\n",
       "      <td>93.0</td>\n",
       "      <td>0.0</td>\n",
       "      <td>2.30</td>\n",
       "      <td>47.407409</td>\n",
       "      <td>-0.476816</td>\n",
       "      <td>47.407409</td>\n",
       "    </tr>\n",
       "  </tbody>\n",
       "</table>\n",
       "</div>"
      ],
      "text/plain": [
       "               Name  Temperature (F)  Humidity (%)  Cloudiness (%)  \\\n",
       "0          Lengshui            47.05          91.0           100.0   \n",
       "1            Caxito            80.60          83.0            75.0   \n",
       "2     North Denmark            41.94          81.0             0.0   \n",
       "3            Lucapa            68.94          85.0           100.0   \n",
       "4  Juigné-sur-Loire            34.83          93.0             0.0   \n",
       "\n",
       "   Windspeed (mph)   Latitude   Longitude  Distance From Equator  \n",
       "0             4.97  27.768461  117.128830              27.768461  \n",
       "1             6.91  -8.555833   13.687778               8.555833  \n",
       "2            11.50  56.961838    9.743209              56.961838  \n",
       "3             2.04  -7.771256   21.400692               7.771256  \n",
       "4             2.30  47.407409   -0.476816              47.407409  "
      ]
     },
     "execution_count": 16,
     "metadata": {},
     "output_type": "execute_result"
    }
   ],
   "source": [
    "#Create a new column that turns latitude into distance from the equator to facilitate analysis\n",
    "weather_df[\"Distance From Equator\"]=abs(weather_df[\"Latitude\"])\n",
    "weather_df.head()"
   ]
  },
  {
   "cell_type": "code",
   "execution_count": 17,
   "metadata": {},
   "outputs": [],
   "source": [
    "#Create separate dataframes for the northern and southern hemispehres only\n",
    "Nweather_df=weather_df.loc[weather_df[\"Latitude\"]>0]\n",
    "Sweather_df=weather_df.loc[weather_df[\"Latitude\"]<=0]"
   ]
  },
  {
   "cell_type": "code",
   "execution_count": 18,
   "metadata": {},
   "outputs": [],
   "source": [
    "#Prepare the written analyses that I would like to present on each chart\n",
    "#I recognize at this point that I should have just made this in markdown format, but I wanted\n",
    "#the text to appear after each chart to look fancy so I did this instead.\n",
    "\n",
    "def wind_analysis():\n",
    "    print(\"While the relationship between windspeed and distance from the equator may appear diproportionately weak, \")\n",
    "    print(\"The variation in windspeed decreases as one gets further to the equator. This may be \")\n",
    "    print(\"because the speed at which any given point on the surface at the earth moves increases \")\n",
    "    print(\"as it's distance to the equator decreases. This is one of the properties of spinning\")\n",
    "    print(\"objects: points further from the axis of rotation along the same plane move faster\")\n",
    "    print(\"than points nearer to the center. This produces the wind pattern we see here, known as the\")\n",
    "    print(\"coriolis effect.\")\n",
    "    \n",
    "def humid_analysis():\n",
    "    print(\"While the relationship between humidity and distance from the equator appears weak, \")\n",
    "    print(\"The variation in humidity increases as one gets further from the equator. This may be \")\n",
    "    print(\"because cities near the equator are more uniformly dry, wheras further locations \")\n",
    "    print(\"experience more precipitation and more erratic weather. The author's knowledge on this subject is limited, however.\")\n",
    "\n",
    "    \n",
    "def temp_analysis():\n",
    "    print(\"The relationship between distance from the equator and temperature is well-known.)\")\n",
    "    print(\"Areas on the globe which get more direct rays from the sun, near the equator become\")\n",
    "    print(\"warmer than areas with less direct rays, near the poles. \\n\")\n",
    "    print(\"There is, however, another interesting pattern here. There might be a second\")\n",
    "    print(\"relationship associated with an exteranious variable, as indicated by the cluster of points on this \")\n",
    "    print(\"scatterplot beginning at about 47 degrees latitude and converging with the first regression line at high .\")\n",
    "    print(\"latitude values. This variable is probably not hemisphere, since we see the same pattern in both\")\n",
    "    print(\"northern and southern hemispheres when we isolate that data (see separate charts below for data from \")\n",
    "    print(\"cities in northern and southern hemispheres only.) This second relationship is consistent regardless\")\n",
    "    print(\"of the number of times the analysis is run, and since the analysis samples cities randomly,\")\n",
    "    print(\"It is unlikely that this pattern in the data is due to chance.\")\n",
    "    \n",
    "def cloud_analysis():\n",
    "    print(\"The relationship between cloudiness and distance from the equator appears weak or nonexistent.\")\n",
    "    print(\"If there is any true substantive relationship between distance from the equator and cloudiness, it is \")\n",
    "    print(\"not easily discernable from this analysis. Breaking down the data by hemisphere does not seem to help \")\n",
    "    print(\"because the direction of the relationship between cloudiness and latitude changes in the southern \")\n",
    "    print(\"hemisphere more than five percent of the time when the analysis is re-run repeatedly (test it for yourself!).\")\n",
    "    print(\"This apparent change in the direction of the relationship might due to the fact that there are less \")\n",
    "    print(\"cities in the southern hemisphere. Smaller samples havehigher levels of variation, so we \")\n",
    "    print(\"shouldn't be surprised to see aparent strong relationships in either direction even when no true substantive relationship exists.\")\n",
    "    \n"
   ]
  },
  {
   "cell_type": "code",
   "execution_count": 19,
   "metadata": {},
   "outputs": [],
   "source": [
    "#Define a function that will conduct all of my regression analyses for both hemispeheres, the northern hemisphere,\n",
    "#and the southern hemisphere, then print the analysis I prepared above.\n",
    "\n",
    "def regIV(a,l):\n",
    "    if l==\"b\":\n",
    "        dataframe= weather_df[[a, \"Distance From Equator\"]]\n",
    "    elif l==\"n\":\n",
    "        dataframe= Nweather_df[[a, \"Distance From Equator\"]]\n",
    "    elif l==\"s\":\n",
    "        dataframe= Sweather_df[[a, \"Distance From Equator\"]]\n",
    "    else:\n",
    "        print(\"Something went wrong!\")\n",
    "    dataframe.plot.scatter( x=[a] , y=[\"Distance From Equator\"])\n",
    "    \n",
    "    x= dataframe[[a]]\n",
    "    y= dataframe[[\"Distance From Equator\"]]\n",
    "    \n",
    "    model=LinearRegression()\n",
    "    model.fit(x,y)\n",
    "    beta=model.coef_\n",
    "    alpha=model.intercept_\n",
    "    yline=model.predict(x)\n",
    "    plt.scatter(x,y)\n",
    "    plt.plot(x, yline,\"r\")\n",
    "    Rsquare=r2_score(y, yline)\n",
    "\n",
    "    if l==\"b\":\n",
    "        plt.title(f\"Distance from the Equator by {a} in 500 Worldwide Cities\")\n",
    "        plt.xlabel(a)\n",
    "        plt.ylabel(\"Distance From Equator\")\n",
    "    elif l==\"n\":\n",
    "        plt.title(f\" Distance from the Equator by {a}in Only Northern Hemisphere Cities\")\n",
    "        plt.xlabel(a)\n",
    "        plt.ylabel(\"Distance From Equator\")\n",
    "    elif l==\"s\":\n",
    "        plt.title(f\"Distance from the Equator by {a} in Only Southern Hemisphere Cities\")\n",
    "        plt.xlabel(a)\n",
    "        plt.ylabel(\"Distance From Equator\")\n",
    "        \n",
    "    plt.savefig(f\"charts/regression_{a[0]}_{l[0]}\")\n",
    "    plt.show()\n",
    "\n",
    "#----Display coeficient, intercept, and R^2\n",
    "    print(f\"\\u03B2 ={beta}\")\n",
    "    print(f\"\\u03B1 ={alpha}\")\n",
    "    print(f\"R^2={Rsquare}\")\n",
    "    \n",
    "#----Print an analysis   \n",
    "    what_crease=[]\n",
    "    direction=[]\n",
    "    IVdir=\"greater\"\n",
    "    DVdir=[]\n",
    "    if beta<0:\n",
    "        what_crease=\"decrease\"\n",
    "        direction=\"negative\"\n",
    "        DVdir=\"lower\"\n",
    "    elif beta==0:\n",
    "        what_crease=\"increase\"\n",
    "        direction=\"lack of any\"\n",
    "        DVdir=\"no change\"\n",
    "    else:\n",
    "        what_crease=\"increase\"\n",
    "        direction=\"positive\"\n",
    "        IVdir=\"greater\"\n",
    "        DVdir=\"higher\"\n",
    "    \n",
    "\n",
    "\n",
    "    \n",
    "    print(f\"\\nThis chart is displaying the relationship between {a.lower()} and the distance a city \")\n",
    "    print(f\"is from the equator. The regression coefficient is {beta}, a {direction} association.\")\n",
    "    print(f\"This means that for every one degree increase in latitude a city is from \")\n",
    "    print(f\"the equator, the model predicts a {abs(beta)} unit {what_crease} in {a.lower()}. \\n\")\n",
    "    print(f\"In other words, {IVdir} distances from the equator are associated with {DVdir} {a.lower()}.\\n\")\n",
    "    \n",
    "    if a==\"Windspeed (mph)\" and l==\"b\":\n",
    "        wind_analysis()\n",
    "    elif a==\"Temperature (F)\" and l==\"b\":\n",
    "        temp_analysis()\n",
    "    elif a==\"Cloudiness (%)\" and l==\"b\":\n",
    "        cloud_analysis()\n",
    "    elif a==\"Humidity (%)\" and l==\"b\":\n",
    "        humid_analysis()\n",
    "    else:\n",
    "        print(\"See the analyses above on the relationships between variables in both hemispheres for commentary on these charts.\")"
   ]
  },
  {
   "cell_type": "code",
   "execution_count": 20,
   "metadata": {},
   "outputs": [],
   "source": [
    "#Generate a list of dependent variables that I can plug into my massive function\n",
    "DVlist=[value for value in weather_df.columns[range(1,5)]]"
   ]
  },
  {
   "cell_type": "code",
   "execution_count": 21,
   "metadata": {},
   "outputs": [
    {
     "data": {
      "image/png": "[encoded data removed]",
      "text/plain": [
       "<Figure size 432x288 with 1 Axes>"
      ]
     },
     "metadata": {
      "needs_background": "light"
     },
     "output_type": "display_data"
    },
    {
     "name": "stdout",
     "output_type": "stream",
     "text": [
      "β =[[-0.73183591]]\n",
      "α =[68.03394457]\n",
      "R^2=0.6751332399654838\n",
      "\n",
      "This chart is displaying the relationship between temperature (f) and the distance a city \n",
      "is from the equator. The regression coefficient is [[-0.73183591]], a negative association.\n",
      "This means that for every one degree increase in latitude a city is from \n",
      "the equator, the model predicts a [[0.73183591]] unit decrease in temperature (f). \n",
      "\n",
      "In other words, greater distances from the equator are associated with lower temperature (f).\n",
      "\n",
      "The relationship between distance from the equator and temperature is well-known.)\n",
      "Areas on the globe which get more direct rays from the sun, near the equator become\n",
      "warmer than areas with less direct rays, near the poles. \n",
      "\n",
      "There is, however, another interesting pattern here. There might be a second\n",
      "relationship associated with an exteranious variable, as indicated by the cluster of points on this \n",
      "scatterplot beginning at about 47 degrees latitude and converging with the first regression line at high .\n",
      "latitude values. This variable is probably not hemisphere, since we see the same pattern in both\n",
      "northern and southern hemispheres when we isolate that data (see separate charts below for data from \n",
      "cities in northern and southern hemispheres only.) This second relationship is consistent regardless\n",
      "of the number of times the analysis is run, and since the analysis samples cities randomly,\n",
      "It is unlikely that this pattern in the data is due to chance.\n",
      "\n",
      "\n",
      "\n"
     ]
    },
    {
     "data": {
      "text/plain": [
       "<Figure size 432x288 with 0 Axes>"
      ]
     },
     "metadata": {},
     "output_type": "display_data"
    },
    {
     "data": {
      "image/png": "[encoded data removed]",
      "text/plain": [
       "<Figure size 432x288 with 1 Axes>"
      ]
     },
     "metadata": {
      "needs_background": "light"
     },
     "output_type": "display_data"
    },
    {
     "name": "stdout",
     "output_type": "stream",
     "text": [
      "β =[[-0.13294053]]\n",
      "α =[41.77945988]\n",
      "R^2=0.038724402068255226\n",
      "\n",
      "This chart is displaying the relationship between humidity (%) and the distance a city \n",
      "is from the equator. The regression coefficient is [[-0.13294053]], a negative association.\n",
      "This means that for every one degree increase in latitude a city is from \n",
      "the equator, the model predicts a [[0.13294053]] unit decrease in humidity (%). \n",
      "\n",
      "In other words, greater distances from the equator are associated with lower humidity (%).\n",
      "\n",
      "While the relationship between humidity and distance from the equator appears weak, \n",
      "The variation in humidity increases as one gets further from the equator. This may be \n",
      "because cities near the equator are more uniformly dry, wheras further locations \n",
      "experience more precipitation and more erratic weather. The author's knowledge on this subject is limited, however.\n",
      "\n",
      "\n",
      "\n"
     ]
    },
    {
     "data": {
      "text/plain": [
       "<Figure size 432x288 with 0 Axes>"
      ]
     },
     "metadata": {},
     "output_type": "display_data"
    },
    {
     "data": {
      "image/png": "[encoded data removed]",
      "text/plain": [
       "<Figure size 432x288 with 1 Axes>"
      ]
     },
     "metadata": {
      "needs_background": "light"
     },
     "output_type": "display_data"
    },
    {
     "name": "stdout",
     "output_type": "stream",
     "text": [
      "β =[[-0.08350117]]\n",
      "α =[37.04313961]\n",
      "R^2=0.060361658670363805\n",
      "\n",
      "This chart is displaying the relationship between cloudiness (%) and the distance a city \n",
      "is from the equator. The regression coefficient is [[-0.08350117]], a negative association.\n",
      "This means that for every one degree increase in latitude a city is from \n",
      "the equator, the model predicts a [[0.08350117]] unit decrease in cloudiness (%). \n",
      "\n",
      "In other words, greater distances from the equator are associated with lower cloudiness (%).\n",
      "\n",
      "The relationship between cloudiness and distance from the equator appears weak or nonexistent.\n",
      "If there is any true substantive relationship between distance from the equator and cloudiness, it is \n",
      "not easily discernable from this analysis. Breaking down the data by hemisphere does not seem to help \n",
      "because the direction of the relationship between cloudiness and latitude changes in the southern \n",
      "hemisphere more than five percent of the time when the analysis is re-run repeatedly (test it for yourself!).\n",
      "This apparent change in the direction of the relationship might due to the fact that there are less \n",
      "cities in the southern hemisphere. Smaller samples havehigher levels of variation, so we \n",
      "shouldn't be surprised to see aparent strong relationships in either direction even when no true substantive relationship exists.\n",
      "\n",
      "\n",
      "\n"
     ]
    },
    {
     "data": {
      "text/plain": [
       "<Figure size 432x288 with 0 Axes>"
      ]
     },
     "metadata": {},
     "output_type": "display_data"
    },
    {
     "data": {
      "image/png": "[encoded data removed]",
      "text/plain": [
       "<Figure size 432x288 with 1 Axes>"
      ]
     },
     "metadata": {
      "needs_background": "light"
     },
     "output_type": "display_data"
    },
    {
     "name": "stdout",
     "output_type": "stream",
     "text": [
      "β =[[0.5107554]]\n",
      "α =[28.53250138]\n",
      "R^2=0.045525316374233626\n",
      "\n",
      "This chart is displaying the relationship between windspeed (mph) and the distance a city \n",
      "is from the equator. The regression coefficient is [[0.5107554]], a positive association.\n",
      "This means that for every one degree increase in latitude a city is from \n",
      "the equator, the model predicts a [[0.5107554]] unit increase in windspeed (mph). \n",
      "\n",
      "In other words, greater distances from the equator are associated with higher windspeed (mph).\n",
      "\n",
      "While the relationship between windspeed and distance from the equator may appear diproportionately weak, \n",
      "The variation in windspeed decreases as one gets further to the equator. This may be \n",
      "because the speed at which any given point on the surface at the earth moves increases \n",
      "as it's distance to the equator decreases. This is one of the properties of spinning\n",
      "objects: points further from the axis of rotation along the same plane move faster\n",
      "than points nearer to the center. This produces the wind pattern we see here, known as the\n",
      "coriolis effect.\n",
      "\n",
      "\n",
      "\n"
     ]
    },
    {
     "data": {
      "text/plain": [
       "<Figure size 432x288 with 0 Axes>"
      ]
     },
     "metadata": {},
     "output_type": "display_data"
    }
   ],
   "source": [
    "#Plug the values in\n",
    "for items in DVlist:\n",
    "    regIV(items,\"b\")\n",
    "    for i in range (0,4):\n",
    "        plt.savefig(f\"regression{i}\")\n",
    "    print(\"\\n\"*2)"
   ]
  },
  {
   "cell_type": "code",
   "execution_count": 22,
   "metadata": {},
   "outputs": [
    {
     "ename": "NameError",
     "evalue": "name 'IVlist' is not defined",
     "output_type": "error",
     "traceback": [
      "\u001b[0;31m---------------------------------------------------------------------------\u001b[0m",
      "\u001b[0;31mNameError\u001b[0m                                 Traceback (most recent call last)",
      "\u001b[0;32m<ipython-input-22-6ede69fee0d6>\u001b[0m in \u001b[0;36m<module>\u001b[0;34m\u001b[0m\n\u001b[1;32m      1\u001b[0m \u001b[0;31m#Do it again, but for the Northern Hemisphere only\u001b[0m\u001b[0;34m\u001b[0m\u001b[0;34m\u001b[0m\u001b[0;34m\u001b[0m\u001b[0m\n\u001b[0;32m----> 2\u001b[0;31m \u001b[0;32mfor\u001b[0m \u001b[0mitems\u001b[0m \u001b[0;32min\u001b[0m \u001b[0mIVlist\u001b[0m\u001b[0;34m:\u001b[0m\u001b[0;34m\u001b[0m\u001b[0;34m\u001b[0m\u001b[0m\n\u001b[0m\u001b[1;32m      3\u001b[0m     \u001b[0mregIV\u001b[0m\u001b[0;34m(\u001b[0m\u001b[0mitems\u001b[0m\u001b[0;34m,\u001b[0m\u001b[0;34m\"n\"\u001b[0m\u001b[0;34m)\u001b[0m\u001b[0;34m\u001b[0m\u001b[0;34m\u001b[0m\u001b[0m\n\u001b[1;32m      4\u001b[0m     \u001b[0;32mfor\u001b[0m \u001b[0mi\u001b[0m \u001b[0;32min\u001b[0m \u001b[0mrange\u001b[0m \u001b[0;34m(\u001b[0m\u001b[0;36m0\u001b[0m\u001b[0;34m,\u001b[0m\u001b[0;36m4\u001b[0m\u001b[0;34m)\u001b[0m\u001b[0;34m:\u001b[0m\u001b[0;34m\u001b[0m\u001b[0;34m\u001b[0m\u001b[0m\n\u001b[1;32m      5\u001b[0m         \u001b[0mplt\u001b[0m\u001b[0;34m.\u001b[0m\u001b[0msavefig\u001b[0m\u001b[0;34m(\u001b[0m\u001b[0;34mf\"Nregression{i}\"\u001b[0m\u001b[0;34m)\u001b[0m\u001b[0;34m\u001b[0m\u001b[0;34m\u001b[0m\u001b[0m\n",
      "\u001b[0;31mNameError\u001b[0m: name 'IVlist' is not defined"
     ]
    }
   ],
   "source": [
    "#Do it again, but for the Northern Hemisphere only\n",
    "for items in IVlist:\n",
    "    regIV(items,\"n\")\n",
    "    for i in range (0,4):\n",
    "        plt.savefig(f\"Nregression{i}\")\n",
    "    print(\"\\n\"*2)"
   ]
  },
  {
   "cell_type": "code",
   "execution_count": null,
   "metadata": {},
   "outputs": [],
   "source": [
    "#One more time, Southern Hemisphere\n",
    "for items in IVlist:\n",
    "    regIV(items,\"s\")\n",
    "    for i in range (0,4):\n",
    "        plt.savefig(f\"Sregression{i}\")\n",
    "    print(\"\\n\"*2)"
   ]
  },
  {
   "cell_type": "code",
   "execution_count": null,
   "metadata": {},
   "outputs": [],
   "source": []
  },
  {
   "cell_type": "code",
   "execution_count": null,
   "metadata": {},
   "outputs": [],
   "source": []
  },
  {
   "cell_type": "code",
   "execution_count": null,
   "metadata": {},
   "outputs": [],
   "source": []
  }
 ],
 "metadata": {
  "kernelspec": {
   "display_name": "Python 3",
   "language": "python",
   "name": "python3"
  },
  "language_info": {
   "codemirror_mode": {
    "name": "ipython",
    "version": 3
   },
   "file_extension": ".py",
   "mimetype": "text/x-python",
   "name": "python",
   "nbconvert_exporter": "python",
   "pygments_lexer": "ipython3",
   "version": "3.8.5"
  }
 },
 "nbformat": 4,
 "nbformat_minor": 4
}